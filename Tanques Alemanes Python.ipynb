{
 "cells": [
  {
   "cell_type": "markdown",
   "id": "0d5ac3da",
   "metadata": {},
   "source": [
    "## Problema de los tanques alemanes\n",
    "\n",
    "https://es.wikipedia.org/wiki/Problema_de_los_tanques_alemanes#:~:text=El%20caso%20espec%C3%ADfico%20de%20tomar,del%20n%C3%BAmero%20de%20tanques%20alemanes.\n",
    "\n",
    "\n",
    "En la simulación que propongo en este caso tenemos una población con tamaño 5000. Cada individuo tiene un número de serie correlativo (equivalente al número de la caja de cambios en el ejemplo de los tanques alemanes).\n",
    "\n",
    "El tamaño muestral se define como 30 y tomaremos 10000 muestras."
   ]
  },
  {
   "cell_type": "code",
   "execution_count": 1,
   "id": "01831eef",
   "metadata": {},
   "outputs": [],
   "source": [
    "import random\n",
    "import pandas as pd\n",
    "import matplotlib.pyplot as plot\n"
   ]
  },
  {
   "cell_type": "code",
   "execution_count": 2,
   "id": "9fd2a6a0",
   "metadata": {},
   "outputs": [
    {
     "name": "stdout",
     "output_type": "stream",
     "text": [
      "        Estimacion\n",
      "1      4955.900000\n",
      "2      5108.833333\n",
      "3      4945.566667\n",
      "4      4345.200000\n",
      "5      5067.500000\n",
      "...            ...\n",
      "9996   5076.800000\n",
      "9997   5019.966667\n",
      "9998   5055.100000\n",
      "9999   4845.333333\n",
      "10000  4985.866667\n",
      "\n",
      "[10000 rows x 1 columns]\n"
     ]
    }
   ],
   "source": [
    "poblacion = 5000\n",
    "muestras = 10000\n",
    "tamaño = 30\n",
    "\n",
    "df = pd.DataFrame(columns=[\"Estimacion\"])\n",
    "\n",
    "for i in range(1,muestras+1):\n",
    "    maximo = 0\n",
    "    for j in range (1, tamaño+1):\n",
    "        elemento = random.randint(1, poblacion)\n",
    "        if (elemento>maximo):\n",
    "            maximo=elemento\n",
    "    estimacion= (((tamaño+1) / tamaño)*maximo) -1  \n",
    "    df.loc[i]=[ estimacion ]"
   ]
  },
  {
   "cell_type": "code",
   "execution_count": 4,
   "id": "0a7274d8",
   "metadata": {},
   "outputs": [
    {
     "data": {
      "image/png": "[encoded data removed]",
      "text/plain": [
       "<Figure size 432x288 with 1 Axes>"
      ]
     },
     "metadata": {
      "needs_background": "light"
     },
     "output_type": "display_data"
    }
   ],
   "source": [
    "\n",
    "df[\"Estimacion\"].plot.hist(bins=20, color='#F2AB6D', rwidth=0.85) # generamos el histograma a partir de los datos\n",
    "\n",
    "plot.ylabel('Frecuencia')\n",
    "plot.xlabel('Estimación')\n",
    "plot.title('Histograma')\n",
    "\n",
    "plot.show()\n"
   ]
  },
  {
   "cell_type": "code",
   "execution_count": null,
   "id": "65720cae",
   "metadata": {},
   "outputs": [],
   "source": []
  }
 ],
 "metadata": {
  "kernelspec": {
   "display_name": "Python 3",
   "language": "python",
   "name": "python3"
  },
  "language_info": {
   "codemirror_mode": {
    "name": "ipython",
    "version": 3
   },
   "file_extension": ".py",
   "mimetype": "text/x-python",
   "name": "python",
   "nbconvert_exporter": "python",
   "pygments_lexer": "ipython3",
   "version": "3.8.8"
  }
 },
 "nbformat": 4,
 "nbformat_minor": 5
}
