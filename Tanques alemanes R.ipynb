{
 "cells": [
  {
   "cell_type": "markdown",
   "id": "c45ef8e7",
   "metadata": {},
   "source": [
    "## Problema de los tanques alemanes\n",
    "\n",
    "https://es.wikipedia.org/wiki/Problema_de_los_tanques_alemanes#:~:text=El%20caso%20espec%C3%ADfico%20de%20tomar,del%20n%C3%BAmero%20de%20tanques%20alemanes.\n",
    "\n",
    "\n",
    "En la simulación que propongo en este caso tenemos una población con tamaño 5000. Cada individuo tiene un número de serie correlativo (equivalente al número de la caja de cambios en el ejemplo de los tanques alemanes).\n",
    "\n",
    "El tamaño muestral se define como 30 y tomaremos 10000 muestras."
   ]
  },
  {
   "cell_type": "code",
   "execution_count": 1,
   "id": "b4fbabe8",
   "metadata": {},
   "outputs": [
    {
     "data": {
      "text/html": [
       "5001.85677666667"
      ],
      "text/latex": [
       "5001.85677666667"
      ],
      "text/markdown": [
       "5001.85677666667"
      ],
      "text/plain": [
       "[1] 5001.857"
      ]
     },
     "metadata": {},
     "output_type": "display_data"
    },
    {
     "data": {
      "text/plain": [
       "\n",
       "\tOne Sample t-test\n",
       "\n",
       "data:  estimacion\n",
       "t = 1.1644, df = 9999, p-value = 0.2443\n",
       "alternative hypothesis: true mean is not equal to 5000\n",
       "95 percent confidence interval:\n",
       " 4998.731 5004.982\n",
       "sample estimates:\n",
       "mean of x \n",
       " 5001.857 \n"
      ]
     },
     "metadata": {},
     "output_type": "display_data"
    },
    {
     "data": {
      "image/png": "[encoded data removed]",
      "text/plain": [
       "Plot with title \"Histogram of estimacion\""
      ]
     },
     "metadata": {
      "image/png": {
       "height": 420,
       "width": 420
      }
     },
     "output_type": "display_data"
    }
   ],
   "source": [
    "poblacion <- 5000\n",
    "\n",
    "\n",
    "numeros <- (1:poblacion)\n",
    "\n",
    "muestras <- 10000\n",
    "tamaño <- 30\n",
    "\n",
    "estimacion <- matrix(1:muestras)\n",
    "\n",
    "\n",
    "for (i in 1:muestras)\n",
    "{\n",
    "  m<-sample(numeros,tamaño,replace=FALSE)\n",
    "  maximo<-max(m)\n",
    "  maximo\n",
    "  estimacion[i]<-(((tamaño+1) / tamaño)*maximo) -1\n",
    "  \n",
    "}\n",
    "\n",
    "mean(estimacion)\n",
    "\n",
    "t.test(estimacion,mu=poblacion)\n",
    "\n",
    "hist(estimacion)\n"
   ]
  },
  {
   "cell_type": "code",
   "execution_count": null,
   "id": "220d3c7e",
   "metadata": {},
   "outputs": [],
   "source": []
  }
 ],
 "metadata": {
  "kernelspec": {
   "display_name": "R",
   "language": "R",
   "name": "ir"
  },
  "language_info": {
   "codemirror_mode": "r",
   "file_extension": ".r",
   "mimetype": "text/x-r-source",
   "name": "R",
   "pygments_lexer": "r",
   "version": "3.6.3"
  }
 },
 "nbformat": 4,
 "nbformat_minor": 5
}
